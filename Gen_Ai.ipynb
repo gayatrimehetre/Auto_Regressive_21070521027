{
  "nbformat": 4,
  "nbformat_minor": 0,
  "metadata": {
    "colab": {
      "provenance": [],
      "authorship_tag": "ABX9TyPxrRtHybqQDzVDB4YzP6MN",
      "include_colab_link": true
    },
    "kernelspec": {
      "name": "python3",
      "display_name": "Python 3"
    },
    "language_info": {
      "name": "python"
    }
  },
  "cells": [
    {
      "cell_type": "markdown",
      "metadata": {
        "id": "view-in-github",
        "colab_type": "text"
      },
      "source": [
        "<a href=\"https://colab.research.google.com/github/gayatrimehetre/Auto_Regressive_21070521027/blob/main/Gen_Ai.ipynb\" target=\"_parent\"><img src=\"https://colab.research.google.com/assets/colab-badge.svg\" alt=\"Open In Colab\"/></a>"
      ]
    },
    {
      "cell_type": "code",
      "execution_count": null,
      "metadata": {
        "colab": {
          "base_uri": "https://localhost:8080/"
        },
        "id": "6hIzFg7Fn5n2",
        "outputId": "07e8716e-23f5-4bb0-f6b4-a0d9636f7a00"
      },
      "outputs": [
        {
          "output_type": "stream",
          "name": "stdout",
          "text": [
            "Symptom Dictionary :  {'Symptom 1': ['Fever: mild, low, high'], 'Symptom 2': ['Cough: mild, low, high'], 'Symptom 3': ['Cold: mild, low, high']}\n"
          ]
        }
      ],
      "source": [
        "# STEP 1\n",
        "\n",
        "import pandas as pd\n",
        "\n",
        "file_path = 'Auto_Regressive_Model_Diffusion_Model_V_1.0.xlsx'\n",
        "xls = pd.ExcelFile(file_path)\n",
        "\n",
        "base_data_set = pd.read_excel(xls, sheet_name='Base_Data_Set')\n",
        "\n",
        "symptom = {'Symptom 1': ['Fever: mild, low, high'],\n",
        "                'Symptom 2': ['Cough: mild, low, high'],\n",
        "                'Symptom 3': ['Cold: mild, low, high']}\n",
        "\n",
        "print(\"Symptom Dictionary : \", symptom)"
      ]
    },
    {
      "cell_type": "code",
      "source": [
        "# STEP 2\n",
        "\n",
        "for index, row in base_data_set.iterrows():\n",
        "    symptom['Symptom 1'].append(row['Symptoms - 1'])\n",
        "    symptom['Symptom 2'].append(row['Symptoms - 2'])\n",
        "    symptom['Symptom 3'].append(row['Symptoms - 3'])\n",
        "\n",
        "missing_col = base_data_set.columns[base_data_set.isnull().any()]\n",
        "\n",
        "print(\"Loss - Columns with missing data: \", missing_col)\n",
        "\n",
        "other_symptoms = ['Body Ache', 'Shivering', 'Head Ache', 'Nausia', 'Sickness', 'Vertigo', 'Head Ache', 'Nausia', 'Sickness', 'Vertigo, Nausia']\n",
        "\n",
        "symptom['Other Symptoms'] = set(other_symptoms)\n",
        "\n",
        "for index, row in base_data_set.iterrows():\n",
        "    if pd.notna(row['Other Symptoms']):\n",
        "        symptom[f'S{len(symptom)}'] = {row['Other Symptoms']}\n",
        "\n",
        "print(\"\\nEnhanced Symptom Dictionary with Other Symptoms included: \")\n",
        "for key, value in symptom.items():\n",
        "    print(f\"{key} : {value}\")"
      ],
      "metadata": {
        "colab": {
          "base_uri": "https://localhost:8080/"
        },
        "id": "E9G3xUs6oZ5j",
        "outputId": "26a84191-0531-4dab-f9c6-4aafa1af03cb"
      },
      "execution_count": null,
      "outputs": [
        {
          "output_type": "stream",
          "name": "stdout",
          "text": [
            "Loss - Columns with missing data:  Index(['SrNo', 'Patient_Id', 'Unnamed: 3', 'Unnamed: 4', 'DOB', 'Unnamed: 7',\n",
            "       'Unnamed: 8', 'Unnamed: 10', 'Unnamed: 11', 'Unnamed: 13',\n",
            "       'Unnamed: 14', 'Parser ', 'Unnamed: 16', 'Unnamed: 17'],\n",
            "      dtype='object')\n",
            "\n",
            "Enhanced Symptom Dictionary with Other Symptoms included: \n",
            "Symptom 1 : ['Fever: mild, low, high', 'Fever', 'Mild', 'Y', 'Y', 'Y', 'Y', 'Y', 'Y', 'Y', 'Y', 'Y', 'Y']\n",
            "Symptom 2 : ['Cough: mild, low, high', 'Cough', 'Mild', 'N', 'N', 'N', 'N', 'N', 'N', 'N', 'N', 'N', 'N']\n",
            "Symptom 3 : ['Cold: mild, low, high', 'Cold', 'Mild', 'N', 'N', 'N', 'N', 'N', 'N', 'N', 'N', 'N', 'N']\n",
            "Other Symptoms : {'Body Ache', 'Nausia', 'Head Ache', 'Sickness', 'Vertigo, Nausia', 'Shivering', 'Vertigo'}\n",
            "S4 : {'Text'}\n",
            "S5 : {'Text'}\n",
            "S6 : {'Body Ache'}\n",
            "S7 : {'Shivering'}\n",
            "S8 : {'Head Ache'}\n",
            "S9 : {'Nausia'}\n",
            "S10 : {'Sickness'}\n",
            "S11 : {'Vertigo'}\n",
            "S12 : {'Head Ache'}\n",
            "S13 : {'Nausia'}\n",
            "S14 : {'Sickness'}\n",
            "S15 : {'Vertigo, Nausia'}\n"
          ]
        }
      ]
    },
    {
      "cell_type": "code",
      "source": [
        "# STEP 3\n",
        "\n",
        "file_path = 'Auto_Regressive_Model_Diffusion_Model_V_1.0.xlsx'\n",
        "xls = pd.ExcelFile(file_path)\n",
        "\n",
        "base_data_set_full = pd.read_excel(xls, sheet_name='Base_Data_Set')\n",
        "\n",
        "print(\"Columns in the DataFrame:\")\n",
        "print(base_data_set_full.columns.tolist())\n",
        "\n",
        "if 'Observation' in base_data_set_full.columns and 'Patient_Id' in base_data_set_full.columns:\n",
        "    loss_entries = base_data_set_full[base_data_set_full['Observation'].isna()]\n",
        "\n",
        "    print(\"Loss (Missing Observations) : \", loss_entries[['SrNo', 'Patient_Id', 'Observation', 'Particulars']])\n",
        "\n",
        "    symptom_dict = {'S1': {'Fever: mild', 'Fever: low', 'Fever: high'},\n",
        "                    'S2': {'Cough: mild', 'Cough: low', 'Cough: high'},\n",
        "                    'S3': {'Cold: mild', 'Cold: low', 'Cold: high'},\n",
        "                    'S4': {'Body Ache'},\n",
        "                    'S5': {'Cold'},\n",
        "                    'S6': {'Shivering: mild', 'Shivering: high', 'Shivering: Intermittent'}\n",
        "                    }\n",
        "\n",
        "    print(\"\\nEnhanced Symptom Dictionary : \")\n",
        "    for key, value in symptom_dict.items():\n",
        "        print(f\"{key}: {value}\")\n",
        "\n",
        "    attributes = [{'Patient_Id' : '000000001', 'Particulars' : 'Low Body Ache, High Head Ache', 'Time Period' : 'In Morning', 'City' : 'City1', 'State' : 'State1', 'Country' : 'Country1', 'Pincode' : '111111'},\n",
        "                  {'Patient_Id' : '000000002', 'Particulars' : 'High Shivering', 'Time Period' : 'In Afternoon', 'City' : 'City2', 'State' : 'State2', 'Country' : 'Country2', 'Pincode' : '222222'},\n",
        "                  {'Patient_Id' : '000000003', 'Particulars' : 'Low Nausia', 'Time Period' : 'Throughout', 'City' : 'City3', 'State' : 'State3', 'Country' : 'Country3', 'Pincode' : '333333'},\n",
        "                  {'Patient_Id' : '000000004', 'Particulars' : 'No observation', 'Time Period' : 'No observation', 'City' : 'No observation', 'State' : 'No observation', 'Country' : 'No observation', 'Pincode' : 'No observation'},\n",
        "                  ]\n",
        "\n",
        "    for attribute in attributes:\n",
        "        patient_id = attribute['Patient_Id']\n",
        "        observation = base_data_set_full[base_data_set_full['Patient_Id'] == patient_id]['Observation'].values[0]\n",
        "\n",
        "        if observation in symptom_dict.keys():\n",
        "            symptom_dict[observation] = {'Particulars' : attribute['Particulars'],\n",
        "                                        'Time Period' : attribute['Time Period'],\n",
        "                                        'Location' : {'City' : attribute['City'],\n",
        "                                                      'State' : attribute['State'],\n",
        "                                                      'Country' : attribute['Country'],\n",
        "                                                      'Pincode' : attribute['Pincode']}\n",
        "                                         }\n",
        "\n",
        "    loss_of_attributes = 0\n",
        "\n",
        "    for symptom, details in symptom_dict.items():\n",
        "        if not isinstance(details, dict):\n",
        "            loss_of_attributes += 1\n",
        "\n",
        "    print(\"\\nEnhanced Symptom Dictionary with Attributes:\")\n",
        "    for key, value in symptom_dict.items():\n",
        "        print(f\"{key}: {value}\")\n",
        "\n",
        "    print(f\"\\nLoss of Attributes: {loss_of_attributes}\")\n",
        "\n",
        "else:\n",
        "    print(\"Required columns are missing in the DataFrame.\")\n"
      ],
      "metadata": {
        "colab": {
          "base_uri": "https://localhost:8080/"
        },
        "id": "nlZy9MN1qXq1",
        "outputId": "b2e97f12-da77-4083-e3d6-c9a720c12b96"
      },
      "execution_count": null,
      "outputs": [
        {
          "output_type": "stream",
          "name": "stdout",
          "text": [
            "Columns in the DataFrame:\n",
            "['SrNo', 'Patient_Id', 'Symptoms - 1', 'Unnamed: 3', 'Unnamed: 4', 'DOB', 'Symptoms - 2', 'Unnamed: 7', 'Unnamed: 8', 'Symptoms - 3', 'Unnamed: 10', 'Unnamed: 11', 'Other Symptoms', 'Unnamed: 13', 'Unnamed: 14', 'Parser ', 'Unnamed: 16', 'Unnamed: 17']\n",
            "Required columns are missing in the DataFrame.\n"
          ]
        }
      ]
    },
    {
      "cell_type": "code",
      "source": [
        "# STEP 4:\n",
        "\n",
        "import json\n",
        "\n",
        "def read_data(file_path, file_type):\n",
        "    if file_type == 'excel':\n",
        "        return pd.read_excel(file_path, sheet_name=None)\n",
        "    elif file_type == 'csv':\n",
        "        return pd.read_csv(file_path)\n",
        "    elif file_type == 'tsv':\n",
        "        return pd.read_csv(file_path, sep='\\t')\n",
        "    elif file_type == 'json':\n",
        "        return pd.read_json(file_path)\n",
        "    elif file_type == 'xml':\n",
        "        return pd.read_xml(file_path)\n",
        "    else:\n",
        "        raise ValueError(\"Unsupported file type\")\n",
        "\n",
        "def enhance_dictionary(base_dict, new_data):\n",
        "    for _, row in new_data.iterrows():\n",
        "        symptoms = row['Observation'].split(', ') if 'Observation' in row else []\n",
        "        for symptom in symptoms:\n",
        "            if symptom not in base_dict:\n",
        "                base_dict[symptom] = {}\n",
        "    return base_dict\n",
        "\n",
        "def print_data_sets(data):\n",
        "    print(data)\n",
        "\n",
        "def dump_dictionary(base_dict, file_name):\n",
        "    dict_to_dump = {key: list(value) for key, value in base_dict.items()}\n",
        "    with open(file_name, 'w') as file:\n",
        "        json.dump(dict_to_dump, file, indent=4)\n",
        "\n",
        "\n",
        "def edit_dictionary(base_dict, symptom, attributes):\n",
        "    if symptom in base_dict:\n",
        "        base_dict[symptom].update(attributes)\n",
        "    else:\n",
        "        print(f\"Symptom {symptom} not found in the dictionary.\")\n",
        "\n",
        "base_dictionary = {'S1' : {'Fever: mild', 'Fever: low', 'Fever: high'},\n",
        "                  'S2' : {'Cough: mild', 'Cough: low', 'Cough: high'},\n",
        "                  'S3' : {'Cold: mild', 'Cold: low', 'Cold: high'},\n",
        "                  'S4' : {'Body Ache'},\n",
        "                  'S5' : {'Cold'},\n",
        "                  'S6' : {'Shivering: mild', 'Shivering: high', 'Shivering: Intermittent'}}\n",
        "\n",
        "file_path = 'Auto_Regressive_Model_Diffusion_Model_V_1.0.xlsx'\n",
        "file_type = 'excel'\n",
        "\n",
        "data = read_data(file_path, file_type)\n",
        "\n",
        "sheet_name = list(data.keys())[0]\n",
        "new_data = data[sheet_name]\n",
        "\n",
        "print(\"Columns in the DataFrame :\", new_data.columns)\n",
        "\n",
        "enhanced_dictionary = enhance_dictionary(base_dictionary, new_data)\n",
        "\n",
        "print(\"\\nEnhanced Dictionary :\", enhanced_dictionary)\n",
        "\n",
        "print(\"\\nData Sets : \")\n",
        "print_data_sets(new_data)\n",
        "\n",
        "dump_dictionary(enhanced_dictionary, 'enhanced_dictionary.json')\n",
        "\n",
        "edit_dictionary(enhanced_dictionary, 'Fever : mild', {'Severity' : 'Medium'})\n",
        "print(\"\\nDictionary after manual editing :\", enhanced_dictionary)"
      ],
      "metadata": {
        "colab": {
          "base_uri": "https://localhost:8080/"
        },
        "id": "Sg0mBFmssYOV",
        "outputId": "bccf556a-4754-46e0-bf35-e7271aa856f9"
      },
      "execution_count": null,
      "outputs": [
        {
          "output_type": "stream",
          "name": "stdout",
          "text": [
            "Columns in the DataFrame : Index(['SrNo', 'Patient_Id', 'Symptoms - 1', 'Unnamed: 3', 'Unnamed: 4', 'DOB',\n",
            "       'Symptoms - 2', 'Unnamed: 7', 'Unnamed: 8', 'Symptoms - 3',\n",
            "       'Unnamed: 10', 'Unnamed: 11', 'Other Symptoms', 'Unnamed: 13',\n",
            "       'Unnamed: 14', 'Parser ', 'Unnamed: 16', 'Unnamed: 17'],\n",
            "      dtype='object')\n",
            "\n",
            "Enhanced Dictionary : {'S1': {'Fever: low', 'Fever: high', 'Fever: mild'}, 'S2': {'Cough: low', 'Cough: mild', 'Cough: high'}, 'S3': {'Cold: low', 'Cold: mild', 'Cold: high'}, 'S4': {'Body Ache'}, 'S5': {'Cold'}, 'S6': {'Shivering: mild', 'Shivering: Intermittent', 'Shivering: high'}}\n",
            "\n",
            "Data Sets : \n",
            "    SrNo  Patient_Id Symptoms - 1 Unnamed: 3 Unnamed: 4  DOB Symptoms - 2  \\\n",
            "0    NaN         NaN        Fever        NaN        NaN  NaN        Cough   \n",
            "1    NaN         NaN         Mild        Low       High  NaN         Mild   \n",
            "2    1.0         1.0            Y          N          N  NaN            N   \n",
            "3    2.0         2.0            Y          N          N  NaN            N   \n",
            "4    3.0         3.0            Y          N          N  NaN            N   \n",
            "5    4.0         4.0            Y          N          N  NaN            N   \n",
            "6    5.0         5.0            Y          N          N  NaN            N   \n",
            "7    6.0         6.0            Y          N          N  NaN            N   \n",
            "8    7.0         7.0            Y          N          N  NaN            N   \n",
            "9    8.0         8.0            Y          N          N  NaN            N   \n",
            "10   9.0         9.0            Y          N          N  NaN            N   \n",
            "11  10.0        10.0            Y          N          N  NaN            N   \n",
            "\n",
            "   Unnamed: 7 Unnamed: 8 Symptoms - 3 Unnamed: 10 Unnamed: 11  \\\n",
            "0         NaN        NaN         Cold         NaN         NaN   \n",
            "1         Low       High         Mild         Low        High   \n",
            "2           Y         Y0            N           N           Y   \n",
            "3           Y         Y0            N           N           Y   \n",
            "4           Y         Y0            N           N           Y   \n",
            "5           Y         Y0            N           N           Y   \n",
            "6           Y         Y0            N           N           Y   \n",
            "7           Y         Y0            N           N           Y   \n",
            "8           Y         Y0            N           N           Y   \n",
            "9           Y         Y0            N           N           Y   \n",
            "10          Y         Y0            N           N           Y   \n",
            "11          Y         Y0            N           N           Y   \n",
            "\n",
            "     Other Symptoms  Unnamed: 13  Unnamed: 14  Parser   \\\n",
            "0              Text          NaN          NaN  Create    \n",
            "1              Text          NaN          NaN      NaN   \n",
            "2         Body Ache          NaN          NaN      NaN   \n",
            "3         Shivering          NaN          NaN      NaN   \n",
            "4         Head Ache          NaN          NaN      NaN   \n",
            "5            Nausia          NaN          NaN      NaN   \n",
            "6          Sickness          NaN          NaN      NaN   \n",
            "7           Vertigo          NaN          NaN      NaN   \n",
            "8         Head Ache          NaN          NaN      NaN   \n",
            "9            Nausia          NaN          NaN      NaN   \n",
            "10         Sickness          NaN          NaN      NaN   \n",
            "11  Vertigo, Nausia          NaN          NaN      NaN   \n",
            "\n",
            "                         Unnamed: 16                              Unnamed: 17  \n",
            "0                                NaN                                      NaN  \n",
            "1   Data Set Dictionary for Symptoms                                      NaN  \n",
            "2                                  {                                      NaN  \n",
            "3                                NaN  S1 : { Fever:mild,Fever:low,Fever:High}  \n",
            "4                                NaN   S2 : {Cough:mild,Cough:low,Cough:High}  \n",
            "5                                NaN      S3 : {Cold:mild,Cold:low:Cold:High}  \n",
            "6                                  }                                      NaN  \n",
            "7                                NaN                                      NaN  \n",
            "8                     Read Data Set                                       NaN  \n",
            "9               Create a Dictionary                                       NaN  \n",
            "10                               NaN                                      NaN  \n",
            "11                               NaN                                      NaN  \n",
            "Symptom Fever : mild not found in the dictionary.\n",
            "\n",
            "Dictionary after manual editing : {'S1': {'Fever: low', 'Fever: high', 'Fever: mild'}, 'S2': {'Cough: low', 'Cough: mild', 'Cough: high'}, 'S3': {'Cold: low', 'Cold: mild', 'Cold: high'}, 'S4': {'Body Ache'}, 'S5': {'Cold'}, 'S6': {'Shivering: mild', 'Shivering: Intermittent', 'Shivering: high'}}\n"
          ]
        }
      ]
    }
  ]
}